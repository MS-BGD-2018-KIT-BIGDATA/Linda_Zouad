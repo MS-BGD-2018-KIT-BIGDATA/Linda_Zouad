{
 "cells": [
  {
   "cell_type": "code",
   "execution_count": 33,
   "metadata": {
    "collapsed": true
   },
   "outputs": [],
   "source": [
    "import csv\n",
    "from urllib.request import urlopen\n",
    "import re\n",
    "import requests\n",
    "from bs4 import BeautifulSoup\n",
    "import pandas as pd\n",
    "from statistics import mean\n",
    "import sys"
   ]
  },
  {
   "cell_type": "code",
   "execution_count": 41,
   "metadata": {
    "collapsed": true
   },
   "outputs": [],
   "source": [
    "def getSoupFromURL(url, method='get', data={}):\n",
    "    res = requests.get(url)\n",
    "    soup = BeautifulSoup(res.text, 'html.parser')\n",
    "    return soup"
   ]
  },
  {
   "cell_type": "code",
   "execution_count": 35,
   "metadata": {
    "collapsed": true
   },
   "outputs": [],
   "source": [
    "models = ['INTENS', 'LIFE', 'ZEN']\n",
    "years = ['2012', '2013', '2014', '2015', '2016', '2017']\n",
    "da = pd.DataFrame(index =models, columns=years)\n",
    "def getArgus(models, years):\n",
    "    for model in models:\n",
    "        for year in years:\n",
    "            url='https://www.lacentrale.fr/cote-auto-renault-zoe-' + model + '+charge+rapide-' + year + '.html'\n",
    "            r = urlopen(url).read()\n",
    "            price = int(re.findall(b': (\\d+\\s\\d+)\\s&euro',r)[0].decode(\"utf-8\").replace(\" \", \"\"))\n",
    "            da.loc[model][year]=price\n",
    "    return da\n",
    "            \n",
    "da = getArgus(models, years)"
   ]
  },
  {
   "cell_type": "code",
   "execution_count": 49,
   "metadata": {},
   "outputs": [
    {
     "name": "stdout",
     "output_type": "stream",
     "text": [
      "['https://www.leboncoin.fr/voitures/offres/ile_de_france/?th=1&q=Renault%20Zo%E9', 'https://www.leboncoin.fr/voitures/offres/ile_de_france/?o=2&q=Renault%20Zo%E9', 'https://www.leboncoin.fr/voitures/offres/ile_de_france/?o=3&q=Renault%20Zo%E9']\n"
     ]
    }
   ],
   "source": [
    "def getURLs(region):\n",
    "    urls = ['https://www.leboncoin.fr/voitures/offres/' + region + '/?th=1&q=Renault%20Zo%E9']\n",
    "    for i in range(2,15):\n",
    "        url = 'https://www.leboncoin.fr/voitures/offres/' + region + '/?o=' + str(i) + '&q=Renault%20Zo%E9'\n",
    "        soup = getSoupFromURL(url)\n",
    "        if soup.find_all('article', class_=\"noResult clearfix listing_thumbs ab-testing_A\") != []:\n",
    "            break\n",
    "        urls.append(url)\n",
    "    return urls"
   ]
  },
  {
   "cell_type": "code",
   "execution_count": 51,
   "metadata": {},
   "outputs": [
    {
     "name": "stdout",
     "output_type": "stream",
     "text": [
      "['https://www.leboncoin.fr/voitures/1136394587.htm?ca=12_s', 'https://www.leboncoin.fr/voitures/1148864542.htm?ca=12_s', 'https://www.leboncoin.fr/voitures/1306769563.htm?ca=12_s', 'https://www.leboncoin.fr/voitures/1147612495.htm?ca=12_s', 'https://www.leboncoin.fr/voitures/1101078242.htm?ca=12_s', 'https://www.leboncoin.fr/voitures/1167828367.htm?ca=12_s', 'https://www.leboncoin.fr/voitures/1171143468.htm?ca=12_s', 'https://www.leboncoin.fr/voitures/1303806454.htm?ca=12_s', 'https://www.leboncoin.fr/voitures/1178596024.htm?ca=12_s', 'https://www.leboncoin.fr/voitures/1303298657.htm?ca=12_s', 'https://www.leboncoin.fr/voitures/1166590040.htm?ca=12_s', 'https://www.leboncoin.fr/voitures/1303298374.htm?ca=12_s', 'https://www.leboncoin.fr/voitures/1166018156.htm?ca=12_s', 'https://www.leboncoin.fr/voitures/1166018166.htm?ca=12_s', 'https://www.leboncoin.fr/voitures/1187231493.htm?ca=12_s', 'https://www.leboncoin.fr/voitures/1187231658.htm?ca=12_s', 'https://www.leboncoin.fr/voitures/1120100372.htm?ca=12_s', 'https://www.leboncoin.fr/voitures/1164288784.htm?ca=12_s', 'https://www.leboncoin.fr/voitures/1164238082.htm?ca=12_s', 'https://www.leboncoin.fr/voitures/1186775046.htm?ca=12_s', 'https://www.leboncoin.fr/voitures/1154896368.htm?ca=12_s', 'https://www.leboncoin.fr/voitures/1186340864.htm?ca=12_s', 'https://www.leboncoin.fr/voitures/1186340768.htm?ca=12_s', 'https://www.leboncoin.fr/voitures/1163364537.htm?ca=12_s', 'https://www.leboncoin.fr/voitures/1184849743.htm?ca=12_s', 'https://www.leboncoin.fr/voitures/1183788805.htm?ca=12_s', 'https://www.leboncoin.fr/voitures/1183337869.htm?ca=12_s', 'https://www.leboncoin.fr/voitures/1183091992.htm?ca=12_s', 'https://www.leboncoin.fr/voitures/1182420995.htm?ca=12_s', 'https://www.leboncoin.fr/voitures/1182361545.htm?ca=12_s', 'https://www.leboncoin.fr/voitures/1138649404.htm?ca=12_s', 'https://www.leboncoin.fr/voitures/1180933261.htm?ca=12_s', 'https://www.leboncoin.fr/voitures/1089980725.htm?ca=12_s', 'https://www.leboncoin.fr/voitures/1159162168.htm?ca=12_s']\n"
     ]
    }
   ],
   "source": [
    "page='https://www.leboncoin.fr/voitures/offres/ile_de_france/?th=1&q=Renault%20Zo%E9'\n",
    "\n",
    "def getLinks(urls):\n",
    "    for url in urls:\n",
    "        soup = getSoupFromURL(url)    \n",
    "        cars = soup.find_all(\"a\", class_=\"list_item clearfix trackable\")\n",
    "        links = [\"https:\" + car['href'] for car in cars]\n",
    "\n",
    "    return links\n",
    "print(getLinks(getURLs('ile_de_france')))"
   ]
  },
  {
   "cell_type": "code",
   "execution_count": 52,
   "metadata": {},
   "outputs": [
    {
     "name": "stdout",
     "output_type": "stream",
     "text": [
      "                                             Annonce  Année  Argus   Prix  \\\n",
      "0  https://www.leboncoin.fr/voitures/1136394587.h...   2014  10212   9600   \n",
      "1  https://www.leboncoin.fr/voitures/1148864542.h...   2014   9908  10990   \n",
      "2  https://www.leboncoin.fr/voitures/1306769563.h...   2017  13984  15000   \n",
      "3  https://www.leboncoin.fr/voitures/1147612495.h...   2015  11405   9500   \n",
      "4  https://www.leboncoin.fr/voitures/1101078242.h...   2013   9335   9490   \n",
      "\n",
      "         Vendeur Version  \n",
      "0  Professionnel    LIFE  \n",
      "1  Professionnel  INTENS  \n",
      "2    Particulier     ZEN  \n",
      "3  Professionnel    LIFE  \n",
      "4  Professionnel    LIFE  \n"
     ]
    }
   ],
   "source": [
    "def getData(links):\n",
    "    annee_l = []\n",
    "    prix_l = []\n",
    "    km_l = []\n",
    "    type_vendeur_l = []\n",
    "    version_l = []\n",
    "    argus_l = []\n",
    "    for link in links:\n",
    "\n",
    "        l = urlopen(link).read()\n",
    "        annee = int(re.findall(b'annee\\s:\\s\\\"(\\d{4})', l)[0].decode(\"utf-8\"))\n",
    "        annee_l.append(annee)\n",
    "\n",
    "        prix = int(re.findall(b'prix\\s:\\s\\\"(\\d+)', l)[0].decode(\"utf-8\"))\n",
    "        prix_l.append(prix)\n",
    "        \n",
    "        k=re.findall(b'(\\d+?\\s\\d+)\\sKM', l)\n",
    "        if len(k)!=0:\n",
    "            km = k[0].decode(\"utf-8\")\n",
    "        else:\n",
    "            km = \"N/A\"\n",
    "        km_l.append(km)\n",
    "\n",
    "        tv = re.findall(b'Pro V', l)\n",
    "        if len(tv) != 0:\n",
    "            type_vendeur = 'Professionnel'\n",
    "        else:\n",
    "            type_vendeur = 'Particulier'\n",
    "        type_vendeur_l.append(type_vendeur)\n",
    "\n",
    "        v=re.findall(b'zen(?i)|life(?i)|intens(?i)', l)\n",
    "        if len(v)!= 0:\n",
    "            version = v[0].decode(\"utf-8\").upper()\n",
    "        else:\n",
    "            version = \"N/A\"\n",
    "        version_l.append(version)\n",
    "        \n",
    "        if version != \"N/A\":\n",
    "            argus = int(da.loc[version][str(annee)])\n",
    "        else:\n",
    "            argus='N/A'\n",
    "        argus_l.append(argus)\n",
    "\n",
    "    df = pd.DataFrame({'Annonce': links, 'Année': annee_l,\n",
    "                       'Prix': prix_l, 'Vendeur': type_vendeur_l, 'Version': version_l, 'Argus':argus_l})\n",
    "    return df\n",
    "\n",
    "\n",
    "df = getData(getLinks(getURLs('ile_de_france')))\n",
    "print(df.head())"
   ]
  },
  {
   "cell_type": "code",
   "execution_count": 75,
   "metadata": {
    "collapsed": true
   },
   "outputs": [],
   "source": [
    "df[\"Comparaison\"] = df.loc[df['Argus']!='N/A'].eval(\"Prix > Argus\")\n",
    "df['Comparaison'] = df[\"Comparaison\"].replace(False, \"Moins\").replace(True, \"Plus\")"
   ]
  },
  {
   "cell_type": "code",
   "execution_count": 76,
   "metadata": {},
   "outputs": [
    {
     "data": {
      "text/html": [
       "<div>\n",
       "<style>\n",
       "    .dataframe thead tr:only-child th {\n",
       "        text-align: right;\n",
       "    }\n",
       "\n",
       "    .dataframe thead th {\n",
       "        text-align: left;\n",
       "    }\n",
       "\n",
       "    .dataframe tbody tr th {\n",
       "        vertical-align: top;\n",
       "    }\n",
       "</style>\n",
       "<table border=\"1\" class=\"dataframe\">\n",
       "  <thead>\n",
       "    <tr style=\"text-align: right;\">\n",
       "      <th></th>\n",
       "      <th>Annonce</th>\n",
       "      <th>Année</th>\n",
       "      <th>Argus</th>\n",
       "      <th>Prix</th>\n",
       "      <th>Vendeur</th>\n",
       "      <th>Version</th>\n",
       "      <th>Comparaison</th>\n",
       "    </tr>\n",
       "  </thead>\n",
       "  <tbody>\n",
       "    <tr>\n",
       "      <th>0</th>\n",
       "      <td>https://www.leboncoin.fr/voitures/1321487407.h...</td>\n",
       "      <td>2017</td>\n",
       "      <td>N/A</td>\n",
       "      <td>15900</td>\n",
       "      <td>Particulier</td>\n",
       "      <td>N/A</td>\n",
       "      <td>NaN</td>\n",
       "    </tr>\n",
       "    <tr>\n",
       "      <th>1</th>\n",
       "      <td>https://www.leboncoin.fr/voitures/1317781865.h...</td>\n",
       "      <td>2015</td>\n",
       "      <td>12436</td>\n",
       "      <td>10990</td>\n",
       "      <td>Professionnel</td>\n",
       "      <td>INTENS</td>\n",
       "      <td>Moins</td>\n",
       "    </tr>\n",
       "    <tr>\n",
       "      <th>2</th>\n",
       "      <td>https://www.leboncoin.fr/voitures/1321415628.h...</td>\n",
       "      <td>2014</td>\n",
       "      <td>10212</td>\n",
       "      <td>7900</td>\n",
       "      <td>Professionnel</td>\n",
       "      <td>LIFE</td>\n",
       "      <td>Moins</td>\n",
       "    </tr>\n",
       "    <tr>\n",
       "      <th>3</th>\n",
       "      <td>https://www.leboncoin.fr/voitures/1317567777.h...</td>\n",
       "      <td>2013</td>\n",
       "      <td>9335</td>\n",
       "      <td>8990</td>\n",
       "      <td>Professionnel</td>\n",
       "      <td>LIFE</td>\n",
       "      <td>Moins</td>\n",
       "    </tr>\n",
       "    <tr>\n",
       "      <th>4</th>\n",
       "      <td>https://www.leboncoin.fr/voitures/1321142626.h...</td>\n",
       "      <td>2014</td>\n",
       "      <td>10212</td>\n",
       "      <td>9700</td>\n",
       "      <td>Particulier</td>\n",
       "      <td>LIFE</td>\n",
       "      <td>Moins</td>\n",
       "    </tr>\n",
       "  </tbody>\n",
       "</table>\n",
       "</div>"
      ],
      "text/plain": [
       "                                             Annonce  Année  Argus   Prix  \\\n",
       "0  https://www.leboncoin.fr/voitures/1321487407.h...   2017    N/A  15900   \n",
       "1  https://www.leboncoin.fr/voitures/1317781865.h...   2015  12436  10990   \n",
       "2  https://www.leboncoin.fr/voitures/1321415628.h...   2014  10212   7900   \n",
       "3  https://www.leboncoin.fr/voitures/1317567777.h...   2013   9335   8990   \n",
       "4  https://www.leboncoin.fr/voitures/1321142626.h...   2014  10212   9700   \n",
       "\n",
       "         Vendeur Version Comparaison  \n",
       "0    Particulier     N/A         NaN  \n",
       "1  Professionnel  INTENS       Moins  \n",
       "2  Professionnel    LIFE       Moins  \n",
       "3  Professionnel    LIFE       Moins  \n",
       "4    Particulier    LIFE       Moins  "
      ]
     },
     "execution_count": 76,
     "metadata": {},
     "output_type": "execute_result"
    }
   ],
   "source": [
    "df.head()"
   ]
  },
  {
   "cell_type": "code",
   "execution_count": 77,
   "metadata": {
    "collapsed": true
   },
   "outputs": [],
   "source": [
    "def getDataRegion(region):\n",
    "    urls = getLinks(getURLs(region))\n",
    "    df = getData(urls)\n",
    "    if 'N/A' in df['Argus']:\n",
    "        df[\"Comparaison\"] = df.loc[df['Argus']!='N/A'].eval(\"Prix > Argus\")\n",
    "    else:\n",
    "        df[\"Comparaison\"] = df.eval(\"Prix > Argus\")\n",
    "    df['Comparaison'] = df[\"Comparaison\"].replace(False, \"Moins\").replace(True, \"Plus\")\n",
    "    df.insert(loc=0, column='Région', value=region)\n",
    "    return df\n",
    "    "
   ]
  },
  {
   "cell_type": "code",
   "execution_count": 75,
   "metadata": {},
   "outputs": [],
   "source": [
    "df_idf = getDataRegion('ile_de_france')"
   ]
  },
  {
   "cell_type": "code",
   "execution_count": 78,
   "metadata": {
    "collapsed": true
   },
   "outputs": [],
   "source": [
    "df_paca = getDataRegion('provence_alpes_cote_d_azur')"
   ]
  },
  {
   "cell_type": "code",
   "execution_count": 79,
   "metadata": {},
   "outputs": [],
   "source": [
    "df_aquitaine = getDataRegion('aquitaine')"
   ]
  },
  {
   "cell_type": "code",
   "execution_count": 80,
   "metadata": {
    "collapsed": true
   },
   "outputs": [],
   "source": [
    "df = pd.concat([df_idf, df_paca, df_aquitaine])"
   ]
  },
  {
   "cell_type": "code",
   "execution_count": 83,
   "metadata": {},
   "outputs": [],
   "source": [
    "df.to_csv('exo_dom_lesson_4.csv')"
   ]
  },
  {
   "cell_type": "code",
   "execution_count": null,
   "metadata": {
    "collapsed": true
   },
   "outputs": [],
   "source": []
  },
  {
   "cell_type": "code",
   "execution_count": null,
   "metadata": {
    "collapsed": true
   },
   "outputs": [],
   "source": []
  },
  {
   "cell_type": "code",
   "execution_count": null,
   "metadata": {
    "collapsed": true
   },
   "outputs": [],
   "source": []
  },
  {
   "cell_type": "code",
   "execution_count": null,
   "metadata": {
    "collapsed": true
   },
   "outputs": [],
   "source": []
  },
  {
   "cell_type": "code",
   "execution_count": null,
   "metadata": {
    "collapsed": true
   },
   "outputs": [],
   "source": []
  },
  {
   "cell_type": "code",
   "execution_count": null,
   "metadata": {
    "collapsed": true
   },
   "outputs": [],
   "source": []
  },
  {
   "cell_type": "code",
   "execution_count": null,
   "metadata": {
    "collapsed": true
   },
   "outputs": [],
   "source": []
  },
  {
   "cell_type": "code",
   "execution_count": null,
   "metadata": {
    "collapsed": true
   },
   "outputs": [],
   "source": []
  },
  {
   "cell_type": "code",
   "execution_count": null,
   "metadata": {
    "collapsed": true
   },
   "outputs": [],
   "source": []
  },
  {
   "cell_type": "code",
   "execution_count": null,
   "metadata": {
    "collapsed": true
   },
   "outputs": [],
   "source": []
  }
 ],
 "metadata": {
  "kernelspec": {
   "display_name": "Python 3",
   "language": "python",
   "name": "python3"
  },
  "language_info": {
   "codemirror_mode": {
    "name": "ipython",
    "version": 3
   },
   "file_extension": ".py",
   "mimetype": "text/x-python",
   "name": "python",
   "nbconvert_exporter": "python",
   "pygments_lexer": "ipython3",
   "version": "3.6.1"
  }
 },
 "nbformat": 4,
 "nbformat_minor": 2
}
